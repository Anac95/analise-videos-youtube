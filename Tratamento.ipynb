{
  "nbformat": 4,
  "nbformat_minor": 0,
  "metadata": {
    "colab": {
      "provenance": []
    },
    "kernelspec": {
      "name": "python3",
      "display_name": "Python 3"
    },
    "language_info": {
      "name": "python"
    }
  },
  "cells": [
    {
      "cell_type": "code",
      "execution_count": 1,
      "metadata": {
        "colab": {
          "base_uri": "https://localhost:8080/"
        },
        "id": "FkLotyFOXL8V",
        "outputId": "1017480e-547b-4c81-968b-97384fbab918"
      },
      "outputs": [
        {
          "output_type": "stream",
          "name": "stdout",
          "text": [
            "Requirement already satisfied: pyspark in /usr/local/lib/python3.11/dist-packages (3.5.1)\n",
            "Requirement already satisfied: py4j==0.10.9.7 in /usr/local/lib/python3.11/dist-packages (from pyspark) (0.10.9.7)\n"
          ]
        }
      ],
      "source": [
        "!pip install pyspark"
      ]
    },
    {
      "cell_type": "code",
      "source": [
        "import pyspark\n",
        "from pyspark.sql import SparkSession"
      ],
      "metadata": {
        "id": "h5qNQkg9rHxB"
      },
      "execution_count": 2,
      "outputs": []
    },
    {
      "cell_type": "code",
      "source": [
        "spark = SparkSession.builder.appName(\"Tratamento de dados YouTube\").getOrCreate()"
      ],
      "metadata": {
        "id": "ugxpQjRjrVFB"
      },
      "execution_count": 3,
      "outputs": []
    },
    {
      "cell_type": "code",
      "source": [
        "df_video = spark.read.csv(\"videos-stats.csv\", header=True, inferSchema=True)"
      ],
      "metadata": {
        "id": "79E6K0gSrw2J"
      },
      "execution_count": 4,
      "outputs": []
    },
    {
      "cell_type": "code",
      "source": [
        "df_video.show(5)"
      ],
      "metadata": {
        "colab": {
          "base_uri": "https://localhost:8080/"
        },
        "id": "tNDXEPr7sbbE",
        "outputId": "5c9c3259-0457-493f-b51f-d7c03e76d89d"
      },
      "execution_count": 5,
      "outputs": [
        {
          "output_type": "stream",
          "name": "stdout",
          "text": [
            "+---+--------------------+-----------+------------+-------+-------+--------+---------+\n",
            "|_c0|               Title|   Video ID|Published At|Keyword|  Likes|Comments|    Views|\n",
            "+---+--------------------+-----------+------------+-------+-------+--------+---------+\n",
            "|  0|Apple Pay Is Kill...|wAZZ-UWGVHI|  2022-08-23|   tech| 3407.0|   672.0| 135612.0|\n",
            "|  1|The most EXPENSIV...|b3x28s61q3c|  2022-08-24|   tech|76779.0|  4306.0|1758063.0|\n",
            "|  2|My New House Gami...|4mgePWWCAmA|  2022-08-23|   tech|63825.0|  3338.0|1564007.0|\n",
            "|  3|Petrol Vs Liquid ...|kXiYSI7H2b0|  2022-08-23|   tech|71566.0|  1426.0| 922918.0|\n",
            "|  4|Best Back to Scho...|ErMwWXQxHp0|  2022-08-08|   tech|96513.0|  5155.0|1855644.0|\n",
            "+---+--------------------+-----------+------------+-------+-------+--------+---------+\n",
            "only showing top 5 rows\n",
            "\n"
          ]
        }
      ]
    },
    {
      "cell_type": "code",
      "source": [
        "df_video = df_video.fillna({\n",
        "    'Likes': 0,\n",
        "    'Comments': 0,\n",
        "    'Views': 0\n",
        "})"
      ],
      "metadata": {
        "id": "T32_G4_LtY5B"
      },
      "execution_count": 6,
      "outputs": []
    },
    {
      "cell_type": "code",
      "source": [
        "df_comentario = spark.read.csv(\"comments.csv\", header=True, inferSchema=True)\n",
        "df_comentario.show(5)\n",
        "df_comentario.printSchema()"
      ],
      "metadata": {
        "colab": {
          "base_uri": "https://localhost:8080/"
        },
        "id": "b9H6j49Xtwdx",
        "outputId": "b1ceee6e-09f1-4691-87b4-d666a9f9db7e"
      },
      "execution_count": 7,
      "outputs": [
        {
          "output_type": "stream",
          "name": "stdout",
          "text": [
            "+---+-----------+--------------------+-----+---------+\n",
            "|_c0|   Video ID|             Comment|Likes|Sentiment|\n",
            "+---+-----------+--------------------+-----+---------+\n",
            "|  0|wAZZ-UWGVHI|Let's not forget ...| 95.0|      1.0|\n",
            "|  1|wAZZ-UWGVHI|Here in NZ 50% of...| 19.0|      0.0|\n",
            "|  2|wAZZ-UWGVHI|I will forever ac...|161.0|      2.0|\n",
            "|  3|wAZZ-UWGVHI|Whenever I go to ...|  8.0|      0.0|\n",
            "|  4|wAZZ-UWGVHI|Apple Pay is so c...| 34.0|      2.0|\n",
            "+---+-----------+--------------------+-----+---------+\n",
            "only showing top 5 rows\n",
            "\n",
            "root\n",
            " |-- _c0: string (nullable = true)\n",
            " |-- Video ID: string (nullable = true)\n",
            " |-- Comment: string (nullable = true)\n",
            " |-- Likes: string (nullable = true)\n",
            " |-- Sentiment: string (nullable = true)\n",
            "\n"
          ]
        }
      ]
    },
    {
      "cell_type": "code",
      "source": [
        "qtd_videos = df_video.count()\n",
        "qtd_comentarios = df_comentario.count()\n",
        "\n",
        "print(f\"Quantidade de vídeos: {qtd_videos}\")\n",
        "print(f\"Quantidade de comentários: {qtd_comentarios}\")"
      ],
      "metadata": {
        "colab": {
          "base_uri": "https://localhost:8080/"
        },
        "id": "KDBQGP-Yvk2I",
        "outputId": "0a425c61-d639-4ac9-812c-e3b84f8c5e01"
      },
      "execution_count": 8,
      "outputs": [
        {
          "output_type": "stream",
          "name": "stdout",
          "text": [
            "Quantidade de vídeos: 1881\n",
            "Quantidade de comentários: 30036\n"
          ]
        }
      ]
    },
    {
      "cell_type": "code",
      "source": [
        "from pyspark.sql.functions import col"
      ],
      "metadata": {
        "id": "XQjn7t5zwdrw"
      },
      "execution_count": 9,
      "outputs": []
    },
    {
      "cell_type": "code",
      "source": [
        "df_video = df_video.filter(col(\"Video ID\").isNotNull())\n",
        "df_comentario = df_comentario.filter(col(\"Video ID\").isNotNull())"
      ],
      "metadata": {
        "id": "e4DjaV5vwrDo"
      },
      "execution_count": 13,
      "outputs": []
    },
    {
      "cell_type": "code",
      "source": [
        "qtd_videos = df_video.count()\n",
        "qtd_comentarios = df_comentario.count()\n",
        "\n",
        "print(f\"Quantidade de vídeos após limpeza: {qtd_videos}\")\n",
        "print(f\"Quantidade de comentários após limpeza: {qtd_comentarios}\")"
      ],
      "metadata": {
        "colab": {
          "base_uri": "https://localhost:8080/"
        },
        "id": "VDp9wryRxJcg",
        "outputId": "673b7d7b-a721-4c0c-a853-2b11a18eb680"
      },
      "execution_count": 14,
      "outputs": [
        {
          "output_type": "stream",
          "name": "stdout",
          "text": [
            "Quantidade de vídeos após limpeza: 1881\n",
            "Quantidade de comentários após limpeza: 22555\n"
          ]
        }
      ]
    },
    {
      "cell_type": "code",
      "source": [
        "df_video = df_video.dropDuplicates([\"Video ID\"])\n",
        "\n",
        "print(f\"Quantidade de vídeos após remoção de duplicados: {df_video.count()}\")"
      ],
      "metadata": {
        "colab": {
          "base_uri": "https://localhost:8080/"
        },
        "id": "5Rq7lR8ExY5Y",
        "outputId": "e30a2fb9-b589-47c5-db49-fb10b959e522"
      },
      "execution_count": 15,
      "outputs": [
        {
          "output_type": "stream",
          "name": "stdout",
          "text": [
            "Quantidade de vídeos após remoção de duplicados: 1869\n"
          ]
        }
      ]
    },
    {
      "cell_type": "code",
      "source": [
        "from pyspark.sql.types import IntegerType\n",
        "from pyspark.sql.functions import col"
      ],
      "metadata": {
        "id": "4iWKJmhOx-Vj"
      },
      "execution_count": 16,
      "outputs": []
    },
    {
      "cell_type": "code",
      "source": [
        "df_video = df_video.withColumn(\"Likes\", col(\"Likes\").cast(IntegerType()))\n",
        "df_video = df_video.withColumn(\"Comments\", col(\"Comments\").cast(IntegerType()))\n",
        "df_video = df_video.withColumn(\"Views\", col(\"Views\").cast(IntegerType()))\n",
        "\n",
        "# Visualizar o schema atualizado\n",
        "df_video.printSchema()"
      ],
      "metadata": {
        "colab": {
          "base_uri": "https://localhost:8080/"
        },
        "id": "pLXWhhKzySA2",
        "outputId": "38088f52-c64b-4a0d-af1a-bf4e9799f56a"
      },
      "execution_count": 17,
      "outputs": [
        {
          "output_type": "stream",
          "name": "stdout",
          "text": [
            "root\n",
            " |-- _c0: integer (nullable = true)\n",
            " |-- Title: string (nullable = true)\n",
            " |-- Video ID: string (nullable = true)\n",
            " |-- Published At: date (nullable = true)\n",
            " |-- Keyword: string (nullable = true)\n",
            " |-- Likes: integer (nullable = true)\n",
            " |-- Comments: integer (nullable = true)\n",
            " |-- Views: integer (nullable = true)\n",
            "\n"
          ]
        }
      ]
    },
    {
      "cell_type": "code",
      "source": [
        "df_comentario = df_comentario.withColumn(\"Likes\", col(\"Likes\").cast(IntegerType())) \\\n",
        "                             .withColumn(\"Sentiment\", col(\"Sentiment\").cast(IntegerType())) \\\n",
        "                             .withColumnRenamed(\"Likes\", \"Likes Comment\")"
      ],
      "metadata": {
        "id": "faG7ZvRgyspQ"
      },
      "execution_count": 18,
      "outputs": []
    },
    {
      "cell_type": "code",
      "source": [
        "df_video = df_video.withColumn(\n",
        "    \"Interaction\",\n",
        "    col(\"Likes\") + col(\"Comments\") + col(\"Views\")\n",
        ")"
      ],
      "metadata": {
        "id": "UCKX5d6czRlw"
      },
      "execution_count": 19,
      "outputs": []
    },
    {
      "cell_type": "code",
      "source": [
        "from pyspark.sql.types import DateType"
      ],
      "metadata": {
        "id": "kPO11x-a0ldo"
      },
      "execution_count": 20,
      "outputs": []
    },
    {
      "cell_type": "code",
      "source": [
        "df_video = df_video.withColumn(\"Published At\", col(\"Published At\").cast(DateType()))"
      ],
      "metadata": {
        "id": "GF6diDbH0m0g"
      },
      "execution_count": 21,
      "outputs": []
    },
    {
      "cell_type": "code",
      "source": [
        "from pyspark.sql.functions import year, col\n",
        "\n",
        "df_video = df_video.withColumn(\"Year\", year(col(\"Published At\")))"
      ],
      "metadata": {
        "id": "KHw6yjRp0r-4"
      },
      "execution_count": 22,
      "outputs": []
    },
    {
      "cell_type": "code",
      "source": [
        "df_join_video_comments = df_video.join(\n",
        "    df_comentario,\n",
        "    on=\"Video ID\",\n",
        "    how=\"inner\"  # você pode usar 'inner', 'left', 'right', 'outer' conforme precisar\n",
        ")\n",
        "df_join_video_comments.show(5)"
      ],
      "metadata": {
        "colab": {
          "base_uri": "https://localhost:8080/"
        },
        "id": "3N2OYFvd1ct_",
        "outputId": "d1206321-019b-4345-b9f5-a685a2f645d0"
      },
      "execution_count": 24,
      "outputs": [
        {
          "output_type": "stream",
          "name": "stdout",
          "text": [
            "+-----------+---+--------------------+------------+-------+-----+--------+------+-----------+----+---+--------------------+-------------+---------+\n",
            "|   Video ID|_c0|               Title|Published At|Keyword|Likes|Comments| Views|Interaction|Year|_c0|             Comment|Likes Comment|Sentiment|\n",
            "+-----------+---+--------------------+------------+-------+-----+--------+------+-----------+----+---+--------------------+-------------+---------+\n",
            "|wAZZ-UWGVHI|  0|Apple Pay Is Kill...|  2022-08-23|   tech| 3407|     672|135612|     139691|2022|  0|Let's not forget ...|           95|        1|\n",
            "|wAZZ-UWGVHI|  0|Apple Pay Is Kill...|  2022-08-23|   tech| 3407|     672|135612|     139691|2022|  1|Here in NZ 50% of...|           19|        0|\n",
            "|wAZZ-UWGVHI|  0|Apple Pay Is Kill...|  2022-08-23|   tech| 3407|     672|135612|     139691|2022|  2|I will forever ac...|          161|        2|\n",
            "|wAZZ-UWGVHI|  0|Apple Pay Is Kill...|  2022-08-23|   tech| 3407|     672|135612|     139691|2022|  3|Whenever I go to ...|            8|        0|\n",
            "|wAZZ-UWGVHI|  0|Apple Pay Is Kill...|  2022-08-23|   tech| 3407|     672|135612|     139691|2022|  4|Apple Pay is so c...|           34|        2|\n",
            "+-----------+---+--------------------+------------+-------+-----+--------+------+-----------+----+---+--------------------+-------------+---------+\n",
            "only showing top 5 rows\n",
            "\n"
          ]
        }
      ]
    },
    {
      "cell_type": "code",
      "source": [
        "df_us_videos = spark.read.csv(\n",
        "    \"USvideos.csv\",\n",
        "    header=True,\n",
        "    inferSchema=True\n",
        ")\n",
        "df_us_videos.show(5)\n",
        "df_us_videos.printSchema()"
      ],
      "metadata": {
        "colab": {
          "base_uri": "https://localhost:8080/"
        },
        "id": "iw9LMo1-3tUm",
        "outputId": "4a5b8aa3-70a7-4418-daa8-3fd053ac0cf5"
      },
      "execution_count": 25,
      "outputs": [
        {
          "output_type": "stream",
          "name": "stdout",
          "text": [
            "+-----------+-------------+--------------------+--------------------+-----------+--------------------+--------------------+-------+------+--------+-------------+--------------------+-----------------+----------------+----------------------+--------------------+\n",
            "|   video_id|trending_date|               title|       channel_title|category_id|        publish_time|                tags|  views| likes|dislikes|comment_count|      thumbnail_link|comments_disabled|ratings_disabled|video_error_or_removed|         description|\n",
            "+-----------+-------------+--------------------+--------------------+-----------+--------------------+--------------------+-------+------+--------+-------------+--------------------+-----------------+----------------+----------------------+--------------------+\n",
            "|2kyS6SvSYSE|     17.14.11|WE WANT TO TALK A...|        CaseyNeistat|         22|2017-11-13T17:13:...|     SHANtell martin| 748374| 57527|    2966|        15954|https://i.ytimg.c...|            False|           False|                 False|SHANTELL'S CHANNE...|\n",
            "|1ZAPwfrtAFY|     17.14.11|The Trump Preside...|     LastWeekTonight|         24|2017-11-13T07:30:...|\"last week tonigh...|2418783| 97185|    6146|        12703|https://i.ytimg.c...|            False|           False|                 False|One year after th...|\n",
            "|5qpjK5DgCt4|     17.14.11|Racist Superman |...|        Rudy Mancuso|         23|2017-11-12T19:05:...|\"racist superman\"...|3191434|146033|    5339|         8181|https://i.ytimg.c...|            False|           False|                 False|WATCH MY PREVIOUS...|\n",
            "|puqaWrEC7tY|     17.14.11|Nickelback Lyrics...|Good Mythical Mor...|         24|2017-11-13T11:00:...|\"rhett and link\"|...| 343168| 10172|     666|         2146|https://i.ytimg.c...|            False|           False|                 False|Today we find out...|\n",
            "|d380meD0W0M|     17.14.11|I Dare You: GOING...|            nigahiga|         24|2017-11-12T18:01:...|\"ryan\"|\"higa\"|\"hi...|2095731|132235|    1989|        17518|https://i.ytimg.c...|            False|           False|                 False|I know it's been ...|\n",
            "+-----------+-------------+--------------------+--------------------+-----------+--------------------+--------------------+-------+------+--------+-------------+--------------------+-----------------+----------------+----------------------+--------------------+\n",
            "only showing top 5 rows\n",
            "\n",
            "root\n",
            " |-- video_id: string (nullable = true)\n",
            " |-- trending_date: string (nullable = true)\n",
            " |-- title: string (nullable = true)\n",
            " |-- channel_title: string (nullable = true)\n",
            " |-- category_id: string (nullable = true)\n",
            " |-- publish_time: string (nullable = true)\n",
            " |-- tags: string (nullable = true)\n",
            " |-- views: string (nullable = true)\n",
            " |-- likes: string (nullable = true)\n",
            " |-- dislikes: string (nullable = true)\n",
            " |-- comment_count: string (nullable = true)\n",
            " |-- thumbnail_link: string (nullable = true)\n",
            " |-- comments_disabled: string (nullable = true)\n",
            " |-- ratings_disabled: string (nullable = true)\n",
            " |-- video_error_or_removed: string (nullable = true)\n",
            " |-- description: string (nullable = true)\n",
            "\n"
          ]
        }
      ]
    },
    {
      "cell_type": "code",
      "source": [
        "df_us_videos = df_us_videos.withColumnRenamed(\"title\", \"Title\")"
      ],
      "metadata": {
        "id": "EgjckX924PGZ"
      },
      "execution_count": 26,
      "outputs": []
    },
    {
      "cell_type": "code",
      "source": [
        "df_join_video_usvideos = df_video.join(\n",
        "    df_us_videos,\n",
        "    on=\"Title\",\n",
        "    how=\"inner\"\n",
        ")\n",
        "df_join_video_usvideos.show(5)\n",
        "df_join_video_usvideos.printSchema()"
      ],
      "metadata": {
        "colab": {
          "base_uri": "https://localhost:8080/"
        },
        "id": "8Sm5L6zN5Jww",
        "outputId": "78ea1311-6fb0-466f-ca99-d0df7f748d6f"
      },
      "execution_count": 29,
      "outputs": [
        {
          "output_type": "stream",
          "name": "stdout",
          "text": [
            "+--------------------+---+-----------+------------+-------+------+--------+---------+-----------+----+-----------+-------------+-------------+-----------+--------------------+--------------------+--------+------+--------+-------------+--------------------+-----------------+----------------+----------------------+--------------------+\n",
            "|               Title|_c0|   Video ID|Published At|Keyword| Likes|Comments|    Views|Interaction|Year|   video_id|trending_date|channel_title|category_id|        publish_time|                tags|   views| likes|dislikes|comment_count|      thumbnail_link|comments_disabled|ratings_disabled|video_error_or_removed|         description|\n",
            "+--------------------+---+-----------+------------+-------+------+--------+---------+-----------+----+-----------+-------------+-------------+-----------+--------------------+--------------------+--------+------+--------+-------------+--------------------+-----------------+----------------+----------------------+--------------------+\n",
            "|All Sports Golf B...|157|-RmUADCWI4A|  2017-12-04| sports|867074|   43024|106014469|  106924567|2017|-RmUADCWI4A|     17.06.12| Dude Perfect|         17|2017-12-04T22:57:...|\"dude perfect\"|\"d...| 8643326|299731|    5168|        23303|https://i.ytimg.c...|            False|           False|                 False|Golf + every othe...|\n",
            "|All Sports Golf B...|157|-RmUADCWI4A|  2017-12-04| sports|867074|   43024|106014469|  106924567|2017|-RmUADCWI4A|     17.07.12| Dude Perfect|         17|2017-12-04T22:57:...|\"dude perfect\"|\"d...| 9828746|316976|    5797|        23221|https://i.ytimg.c...|            False|           False|                 False|Golf + every othe...|\n",
            "|All Sports Golf B...|157|-RmUADCWI4A|  2017-12-04| sports|867074|   43024|106014469|  106924567|2017|-RmUADCWI4A|     17.08.12| Dude Perfect|         17|2017-12-04T22:57:...|\"dude perfect\"|\"d...|10558591|325479|    6104|        24107|https://i.ytimg.c...|            False|           False|                 False|Golf + every othe...|\n",
            "|All Sports Golf B...|157|-RmUADCWI4A|  2017-12-04| sports|867074|   43024|106014469|  106924567|2017|-RmUADCWI4A|     17.09.12| Dude Perfect|         17|2017-12-04T22:57:...|\"dude perfect\"|\"d...|11319116|334495|    6430|        25199|https://i.ytimg.c...|            False|           False|                 False|Golf + every othe...|\n",
            "|All Sports Golf B...|157|-RmUADCWI4A|  2017-12-04| sports|867074|   43024|106014469|  106924567|2017|-RmUADCWI4A|     17.10.12| Dude Perfect|         17|2017-12-04T22:57:...|\"dude perfect\"|\"d...|12305961|342825|    6898|        25905|https://i.ytimg.c...|            False|           False|                 False|Golf + every othe...|\n",
            "+--------------------+---+-----------+------------+-------+------+--------+---------+-----------+----+-----------+-------------+-------------+-----------+--------------------+--------------------+--------+------+--------+-------------+--------------------+-----------------+----------------+----------------------+--------------------+\n",
            "only showing top 5 rows\n",
            "\n",
            "root\n",
            " |-- Title: string (nullable = true)\n",
            " |-- _c0: integer (nullable = true)\n",
            " |-- Video ID: string (nullable = true)\n",
            " |-- Published At: date (nullable = true)\n",
            " |-- Keyword: string (nullable = true)\n",
            " |-- Likes: integer (nullable = true)\n",
            " |-- Comments: integer (nullable = true)\n",
            " |-- Views: integer (nullable = true)\n",
            " |-- Interaction: integer (nullable = true)\n",
            " |-- Year: integer (nullable = true)\n",
            " |-- video_id: string (nullable = true)\n",
            " |-- trending_date: string (nullable = true)\n",
            " |-- channel_title: string (nullable = true)\n",
            " |-- category_id: string (nullable = true)\n",
            " |-- publish_time: string (nullable = true)\n",
            " |-- tags: string (nullable = true)\n",
            " |-- views: string (nullable = true)\n",
            " |-- likes: string (nullable = true)\n",
            " |-- dislikes: string (nullable = true)\n",
            " |-- comment_count: string (nullable = true)\n",
            " |-- thumbnail_link: string (nullable = true)\n",
            " |-- comments_disabled: string (nullable = true)\n",
            " |-- ratings_disabled: string (nullable = true)\n",
            " |-- video_error_or_removed: string (nullable = true)\n",
            " |-- description: string (nullable = true)\n",
            "\n"
          ]
        }
      ]
    },
    {
      "cell_type": "code",
      "source": [
        "from pyspark.sql.functions import col, sum, when\n",
        "\n",
        "df_video.select([\n",
        "    sum(when(col(c).isNull() | (col(c) == \"\"), 1).otherwise(0)).alias(c)\n",
        "    for c in df_video.columns\n",
        "]).show()"
      ],
      "metadata": {
        "colab": {
          "base_uri": "https://localhost:8080/"
        },
        "id": "uBuqx7xa5tSw",
        "outputId": "59fa14e0-2e56-4378-aa95-03a7de7cb4af"
      },
      "execution_count": 30,
      "outputs": [
        {
          "output_type": "stream",
          "name": "stdout",
          "text": [
            "+---+-----+--------+------------+-------+-----+--------+-----+-----------+----+\n",
            "|_c0|Title|Video ID|Published At|Keyword|Likes|Comments|Views|Interaction|Year|\n",
            "+---+-----+--------+------------+-------+-----+--------+-----+-----------+----+\n",
            "|  0|    0|       0|           0|      0|    0|       0|    0|          0|   0|\n",
            "+---+-----+--------+------------+-------+-----+--------+-----+-----------+----+\n",
            "\n"
          ]
        }
      ]
    },
    {
      "cell_type": "code",
      "source": [
        "df_video = df_video.drop(\"_c0\")"
      ],
      "metadata": {
        "id": "kZ4r1IS-59pA"
      },
      "execution_count": 31,
      "outputs": []
    },
    {
      "cell_type": "code",
      "source": [
        "df_video.write.mode(\"overwrite\").parquet(\"videos-tratados-parquet\")"
      ],
      "metadata": {
        "id": "SRTrx7Yn6bjQ"
      },
      "execution_count": 35,
      "outputs": []
    },
    {
      "cell_type": "code",
      "source": [
        "df_verificado = spark.read.parquet(\"videos-tratados-parquet\")\n",
        "df_verificado.show(5)"
      ],
      "metadata": {
        "colab": {
          "base_uri": "https://localhost:8080/"
        },
        "id": "h4NtmUai-Ty4",
        "outputId": "119227d7-3452-4311-80c6-03c8e04dec7d"
      },
      "execution_count": 36,
      "outputs": [
        {
          "output_type": "stream",
          "name": "stdout",
          "text": [
            "+--------------------+-----------+------------+-------+------+--------+--------+-----------+----+\n",
            "|               Title|   Video ID|Published At|Keyword| Likes|Comments|   Views|Interaction|Year|\n",
            "+--------------------+-----------+------------+-------+------+--------+--------+-----------+----+\n",
            "|ASMR MUKBANG DOUB...|--ZI0dSbbNU|  2020-04-18|mukbang|378858|   18860|17975269|   18372987|2020|\n",
            "|Deadly car bomb d...|--hxd1CrOqg|  2022-08-22|   news|  6379|    4853|  808787|     820019|2022|\n",
            "|How Biden&#39;s s...|--ixiTypG8g|  2022-08-24|   news|  1029|    2347|   97434|     100810|2022|\n",
            "|Celebrating My 40...|-64r1hcxtV4|  2022-05-30|mukbang| 45628|   17264| 5283664|    5346556|2022|\n",
            "|Physics Review - ...|-6IgkG5yZfo|  2017-01-02|physics| 10959|     525|  844015|     855499|2017|\n",
            "+--------------------+-----------+------------+-------+------+--------+--------+-----------+----+\n",
            "only showing top 5 rows\n",
            "\n"
          ]
        }
      ]
    },
    {
      "cell_type": "code",
      "source": [
        "df_join_video_comments = df_join_video_comments.drop(\"_c0\")"
      ],
      "metadata": {
        "id": "mZKjsRjq7oqw"
      },
      "execution_count": 33,
      "outputs": []
    },
    {
      "cell_type": "code",
      "source": [
        "df_join_video_comments.write.mode(\"overwrite\").parquet(\"videos-comments-tratados-parquet\")"
      ],
      "metadata": {
        "id": "aYIws9xE7q-n"
      },
      "execution_count": 34,
      "outputs": []
    },
    {
      "cell_type": "code",
      "source": [
        "df_ver_comments = spark.read.parquet(\"videos-comments-tratados-parquet\")\n",
        "df_ver_comments.show(5)"
      ],
      "metadata": {
        "colab": {
          "base_uri": "https://localhost:8080/"
        },
        "id": "6qDyILr--tR_",
        "outputId": "1d4a6b33-5231-40ce-c05b-7718c9290921"
      },
      "execution_count": 38,
      "outputs": [
        {
          "output_type": "stream",
          "name": "stdout",
          "text": [
            "+-----------+--------------------+------------+-------+-----+--------+------+-----------+----+--------------------+-------------+---------+\n",
            "|   Video ID|               Title|Published At|Keyword|Likes|Comments| Views|Interaction|Year|             Comment|Likes Comment|Sentiment|\n",
            "+-----------+--------------------+------------+-------+-----+--------+------+-----------+----+--------------------+-------------+---------+\n",
            "|wAZZ-UWGVHI|Apple Pay Is Kill...|  2022-08-23|   tech| 3407|     672|135612|     139691|2022|Let's not forget ...|           95|        1|\n",
            "|wAZZ-UWGVHI|Apple Pay Is Kill...|  2022-08-23|   tech| 3407|     672|135612|     139691|2022|Here in NZ 50% of...|           19|        0|\n",
            "|wAZZ-UWGVHI|Apple Pay Is Kill...|  2022-08-23|   tech| 3407|     672|135612|     139691|2022|I will forever ac...|          161|        2|\n",
            "|wAZZ-UWGVHI|Apple Pay Is Kill...|  2022-08-23|   tech| 3407|     672|135612|     139691|2022|Whenever I go to ...|            8|        0|\n",
            "|wAZZ-UWGVHI|Apple Pay Is Kill...|  2022-08-23|   tech| 3407|     672|135612|     139691|2022|Apple Pay is so c...|           34|        2|\n",
            "+-----------+--------------------+------------+-------+-----+--------+------+-----------+----+--------------------+-------------+---------+\n",
            "only showing top 5 rows\n",
            "\n"
          ]
        }
      ]
    },
    {
      "cell_type": "code",
      "source": [
        "df_ver_comments.printSchema()"
      ],
      "metadata": {
        "colab": {
          "base_uri": "https://localhost:8080/"
        },
        "id": "MATq47aL-vBw",
        "outputId": "31240512-1d80-4b29-f365-69d50e581ea8"
      },
      "execution_count": 39,
      "outputs": [
        {
          "output_type": "stream",
          "name": "stdout",
          "text": [
            "root\n",
            " |-- Video ID: string (nullable = true)\n",
            " |-- Title: string (nullable = true)\n",
            " |-- Published At: date (nullable = true)\n",
            " |-- Keyword: string (nullable = true)\n",
            " |-- Likes: integer (nullable = true)\n",
            " |-- Comments: integer (nullable = true)\n",
            " |-- Views: integer (nullable = true)\n",
            " |-- Interaction: integer (nullable = true)\n",
            " |-- Year: integer (nullable = true)\n",
            " |-- Comment: string (nullable = true)\n",
            " |-- Likes Comment: integer (nullable = true)\n",
            " |-- Sentiment: integer (nullable = true)\n",
            "\n"
          ]
        }
      ]
    }
  ]
}